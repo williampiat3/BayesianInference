{
 "cells": [
  {
   "cell_type": "markdown",
   "metadata": {},
   "source": [
    "# Introduction to Bayesian Inference\n",
    "in this jupyter notebook our goal is to present the basic of bayesian inference and to see how we can apply it to different situations. This notebook contains a small introduction to bayesian inference, however I still have a lot to learn in the field so this presentation is also, for me, to make sure that I understood the principles\n",
    "\n",
    "## Bayesian statistics \n",
    "Bayesian statiscs aims at computing the probability of differents parameters at the light of some observation: we mesure the impact of observed data on our assumptions concerning these parameters\n",
    "\n",
    "Bayesian statistics are relying mostly on the Bayes formula:\n",
    "$$ \n",
    "P(A|B)=\\frac{P(B|A)P(A)}{P(B)}\n",
    "$$\n",
    "This formula means that observing the effect of A on B can give us some information on the probability of A if we know the possibilities of A and B.\n",
    "\n",
    "If you are confused (I was definitly confused at this moment) here is an example from wikipedia (french page) that I suggest we resolve:\n",
    "\n",
    "### Laplace: sex ratio in population\n",
    "\n",
    "Laplace observe in year 1785 a discrepancy between the birth of boys and girls, respectively $N_1 = 251 527$ and $N_2=241 945$ . He want to determine if the this difference is showing some biased probability $\\theta$ of having a boy.\n",
    "\n",
    "Assuming nothing on $\\theta$ (ie $\\theta$ follows a uniform law between 0 and 1) he want to compute\n",
    "\n",
    "$$\n",
    "P(\\theta \\leq \\frac{1}{2}|(N_1,N_2))\n",
    "$$\n",
    "\n",
    "Using Bayes formula:\n",
    "$$\n",
    "P(\\theta|(N_1,N_2))=\\frac{P((N_1,N_2)|\\theta)P(\\theta)}{P((N_1,N_2))}\n",
    "$$\n",
    "\n",
    "Ok so the easiest term in the previous equation is $P(\\theta)$ as we assumed $\\theta$ to follow a uniform law between 0 and 1 therefore $P(\\theta)=\\frac{1}{1-0}=1$\n",
    "\n",
    "$P((N_1,N_2)|\\theta)$ is $N_1$ draws with probability $\\theta$  and $N_2$ draws with probability $(1-\\theta)$ therefore:\n",
    "$$\n",
    "P((N_1,N_2)|\\theta)=\\theta^{N_1}(1-\\theta)^{N_2}\n",
    "$$\n",
    "\n",
    "$P((N_1,N_2))$ is equal to $P((N_1,N_2)|\\theta)$ summed over all possible values of $\\theta$:\n",
    "\n",
    "$$\n",
    "P((N_1,N_2))=\\int_0^1 P((N_1,N_2)|\\theta)d\\theta = \\int_0^1 \\theta^{N_1}(1-\\theta)^{N_2} d\\theta = B(N_1+1,N_2+1)\n",
    "$$\n",
    "\n",
    "With B the [beta function](https://en.wikipedia.org/wiki/Beta_function)\n",
    "\n",
    "In the end we have:\n",
    "\n",
    "$$\n",
    "P(\\theta|(N_1,N_2))=\\frac{\\theta^{N_1}(1-\\theta)^{N_2}}{B(N_1+1,N_2+1)}\n",
    "$$\n",
    "\n",
    "by definition:\n",
    "\n",
    "$$\n",
    "P(\\theta \\leq \\frac{1}{2}|(N_1,N_2))= \\int_0^{\\frac{1}{2}} P(\\theta|(N_1,N_2))d\\theta =  \\frac{\\int_0^{\\frac{1}{2}}\\theta^{N_1}(1-\\theta)^{N_2}d\\theta}{B(N_1+1,N_2+1)}= I_{\\frac{1}{2}}(N_1+1,N_2+1)\n",
    "$$\n",
    "\n",
    "with $I_x(a,b)$ being the [regularized incomplete beta function](https://en.wikipedia.org/wiki/Beta_function#Incomplete_beta_function)\n",
    "\n",
    "Lucky for us this regularized incomplete beta function is implemented in scipy\n",
    "\n",
    "\n",
    "\n",
    "\n",
    "\n",
    "\n",
    "\n",
    "\n",
    "\n",
    "\n"
   ]
  },
  {
   "cell_type": "code",
   "execution_count": 5,
   "metadata": {},
   "outputs": [
    {
     "data": {
      "text/plain": [
       "1.1460584897220391e-42"
      ]
     },
     "execution_count": 5,
     "metadata": {},
     "output_type": "execute_result"
    }
   ],
   "source": [
    "# the function betainc here is not the incomplete beta function but the regularized incomplete beta function\n",
    "# check out the docs of scipy: https://docs.scipy.org/doc/scipy-0.14.0/reference/generated/scipy.special.betainc.html\n",
    "# it is normalised using the beta function in the form of a gamma function ratio\n",
    "from scipy.special import betainc\n",
    "N1 = 251528\n",
    "N2 = 241946\n",
    "x = 0.5\n",
    "betainc(N1,N2,x)"
   ]
  },
  {
   "cell_type": "markdown",
   "metadata": {},
   "source": [
    "The probability of having a proportion of birth of boys inferior to 0.5 is equal to $1.15 \\times 10^{-42}$ in the light of such observation. We can call it unlikely"
   ]
  },
  {
   "cell_type": "markdown",
   "metadata": {},
   "source": [
    "## Bayesian inference\n",
    "In Machine learning we are often facing the problem of finding the \"best\" set of parameters of a parametric function to minimize the Mean Square Error however this set of parameter can not be the optimum that is the most robust. Let $\\theta \\in \\mathbb R^N$ the vector of parameters that we would like to find, $(X,Y)=D$ our data.\n",
    "We would like to have the following quantity:\n",
    "$$\n",
    "P(\\theta|D)\n",
    "$$\n",
    "Meaning the probability of our parameters once we observed the data.\n",
    "\n",
    "\n",
    "Using Bayes formula:\n",
    "$$\n",
    "P(\\theta|D)=\\frac{P(D|\\theta)P(\\theta)}{P(D)}\n",
    "$$\n",
    "\n",
    "$P(D|\\theta)$ is the likelyhood of the data, $P(\\theta)$ is our prior belief of the values of the parameters and $P(D)$ is the likelyhood summed over all the parameters\n",
    "\n",
    "Of course if $N=2$ the integral denominator is quite easy, however the integral becomes much more dificult in the case of a higly dimentional $\\theta$ however the denominator is a constant of theta therefore we can write:\n",
    "\n",
    "$$\n",
    "P(\\theta|D) \\propto P(D|\\theta)P(\\theta)\n",
    "$$\n",
    "\n",
    "And you'll see: that's just about what we need!\n"
   ]
  },
  {
   "cell_type": "code",
   "execution_count": null,
   "metadata": {},
   "outputs": [],
   "source": []
  }
 ],
 "metadata": {
  "kernelspec": {
   "display_name": "Python 3",
   "language": "python",
   "name": "python3"
  },
  "language_info": {
   "codemirror_mode": {
    "name": "ipython",
    "version": 3
   },
   "file_extension": ".py",
   "mimetype": "text/x-python",
   "name": "python",
   "nbconvert_exporter": "python",
   "pygments_lexer": "ipython3",
   "version": "3.7.6"
  }
 },
 "nbformat": 4,
 "nbformat_minor": 2
}
