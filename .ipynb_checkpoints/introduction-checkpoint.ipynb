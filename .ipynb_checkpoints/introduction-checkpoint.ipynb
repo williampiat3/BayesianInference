{
 "cells": [
  {
   "cell_type": "markdown",
   "metadata": {},
   "source": [
    "# Introduction to Bayesian Inference\n",
    "in this jupyter notebook our goal is to present the basic of bayesian inference and to see how we can apply it to different situations. This notebook contains a small introduction to bayesian inference, however I still have a lot to learn in the field so this presentation is also, for me, to make sure that I understood the principles\n",
    "\n",
    "## Bayesian statistics \n",
    "Bayesian statiscs aims at computing the probability of differents parameters at the light of some observation: we mesure the impact of observed data on our assumptions concerning these parameters\n",
    "\n",
    "Bayesian statistics are relying mostly on the Bayes formula:\n",
    "$$ \n",
    "P(A|B)=\\frac{P(B|A)P(A)}{P(B)}\n",
    "$$\n",
    "This formula means that observing the effect of A on B can give us some information on the probability of A if we know the possibilities of A and B.\n",
    "\n",
    "If you are confused (I was definitly confused at this moment) here is an example from wikipedia (french page) that I suggest we resolve:\n",
    "\n",
    "### Laplace: sex ratio in population\n",
    "\n",
    "Laplace observe in year 1785 a discrepancy between the birth of boys and girls, respectively $N_1 = 251 527$ and $N_2=241 945$ . He want to determine if the this difference is showing some biased probability $\\theta$ of having a boy.\n",
    "\n",
    "Assuming nothing on $\\theta$ (ie $\\theta$ follows a uniform law between 0 and 1) he want to compute\n",
    "\n",
    "$$\n",
    "P(\\theta \\leq \\frac{1}{2}|(N_1,N_2))\n",
    "$$\n",
    "\n",
    "Using Bayes formula:\n",
    "$$\n",
    "P(\\theta|(N_1,N_2))=\\frac{P((N_1,N_2)|\\theta)P(\\theta)}{P((N_1,N_2))}\n",
    "$$\n",
    "\n",
    "Ok so the easiest term in the previous equation is $P(\\theta)$ as we assumed $\\theta$ to follow a uniform law between 0 and 1 therefore $P(\\theta)=\\frac{1}{1-0}=1$\n",
    "\n",
    "$P((N_1,N_2)|\\theta)$ is $N_1$ draws with probability $\\theta$  and $N_2$ draws with probability $(1-\\theta)$ therefore:\n",
    "$$\n",
    "P((N_1,N_2)|\\theta)=\\theta^{N_1}(1-\\theta)^{N_2}\n",
    "$$\n",
    "\n",
    "$P((N_1,N_2))$ is equal to $P((N_1,N_2)|\\theta)$ summed over all possible values of $\\theta$:\n",
    "\n",
    "$$\n",
    "P((N_1,N_2))=\\int_0^1 P((N_1,N_2)|\\theta)d\\theta = \\int_0^1 \\theta^{N_1}(1-\\theta)^{N_2} d\\theta = B(N_1+1,N_2+1)\n",
    "$$\n",
    "\n",
    "With B the [beta function](https://en.wikipedia.org/wiki/Beta_function)\n",
    "\n",
    "In the end we have:\n",
    "\n",
    "$$\n",
    "P(\\theta|(N_1,N_2))=\\frac{\\theta^{N_1}(1-\\theta)^{N_2}}{B(N_1+1,N_2+1)}\n",
    "$$\n",
    "\n",
    "by definition:\n",
    "\n",
    "$$\n",
    "P(\\theta \\leq \\frac{1}{2}|(N_1,N_2))= \\int_0^{\\frac{1}{2}} P(\\theta|(N_1,N_2))d\\theta =  \\frac{\\int_0^{\\frac{1}{2}}\\theta^{N_1}(1-\\theta)^{N_2}d\\theta}{B(N_1+1,N_2+1)}= I_{\\frac{1}{2}}(N_1+1,N_2+1)\n",
    "$$\n",
    "\n",
    "with $I_x(a,b)$ being the [regularized incomplete beta function](https://en.wikipedia.org/wiki/Beta_function#Incomplete_beta_function)\n",
    "\n",
    "Lucky for us this regularized incomplete beta function is implemented in scipy\n",
    "\n",
    "\n",
    "\n",
    "\n",
    "\n",
    "\n",
    "\n",
    "\n",
    "\n",
    "\n"
   ]
  },
  {
   "cell_type": "code",
   "execution_count": 1,
   "metadata": {},
   "outputs": [
    {
     "data": {
      "text/plain": [
       "1.1460584897220391e-42"
      ]
     },
     "execution_count": 1,
     "metadata": {},
     "output_type": "execute_result"
    }
   ],
   "source": [
    "# the function betainc here is not the incomplete beta function but the regularized incomplete beta function\n",
    "# check out the docs of scipy: https://docs.scipy.org/doc/scipy-0.14.0/reference/generated/scipy.special.betainc.html\n",
    "# it is normalised using the beta function in the form of a gamma function ratio\n",
    "from scipy.special import betainc\n",
    "N1 = 251527\n",
    "N2 = 241945\n",
    "x = 0.5\n",
    "betainc(N1+1,N2+1,x)"
   ]
  },
  {
   "cell_type": "markdown",
   "metadata": {},
   "source": [
    "The probability of having a proportion of birth of boys inferior to 0.5 is equal to $1.15 \\times 10^{-42}$ in the light of such observation. We can call it unlikely"
   ]
  },
  {
   "cell_type": "markdown",
   "metadata": {},
   "source": [
    "## Bayesian inference\n",
    "In Machine learning we are often facing the problem of finding the \"best\" set of parameters of a parametric function to minimize the Mean Square Error however this set of parameter can not be the optimum that is the most robust. Let $\\theta \\in \\mathbb R^N$ the vector of parameters that we would like to find, $(X,Y)=D$ our data.\n",
    "We would like to have the following quantity:\n",
    "$$\n",
    "P(\\theta|D)\n",
    "$$\n",
    "Meaning the probability of our parameters once we observed the data.\n",
    "\n",
    "\n",
    "Using Bayes formula:\n",
    "$$\n",
    "P(\\theta|D)=\\frac{P(D|\\theta)P(\\theta)}{P(D)}\n",
    "$$\n",
    "\n",
    "$P(D|\\theta)$ is the likelyhood of the data, $P(\\theta)$ is our prior belief of the values of the parameters and $P(D)$ is the likelyhood summed over all the parameters\n",
    "\n",
    "Of course if $N=2$ the integral denominator is quite easy, however the integral becomes much more dificult in the case of a higly dimentional $\\theta$ however the denominator is a constant of theta therefore we can write:\n",
    "\n",
    "$$\n",
    "P(\\theta|D) \\propto P(D|\\theta)P(\\theta)\n",
    "$$\n",
    "\n",
    "And you'll see: that's just about what we need!\n"
   ]
  },
  {
   "cell_type": "markdown",
   "metadata": {},
   "source": [
    "## Metropolis Hastings algorithm\n",
    "The [Metropolis Hastings algorithm](https://en.wikipedia.org/wiki/Metropolis%E2%80%93Hastings_algorithm) Monte Carlo Markov Chain method to sample from a probability distribution from which direct sampling is difficult.\n",
    "Let $P : \\mathbb R^n \\rightarrow \\mathbb R$ be the distribution that we want to sample however we don't have acces to $P$ but a function $f : \\mathbb R^n \\rightarrow \\mathbb R$ that is proportionate to $P$: \n",
    "$$\n",
    "P(x) \\propto f(x)\n",
    "$$\n",
    "We need also a transition distribution $g:\\mathbb R^n \\times \\mathbb R^n \\rightarrow \\mathbb R$ that tells us how we can pass from a postion $x$ to a position $x'$, a classical choice of $g$ is a gaussian perturbation around $x$. We will consider the case of $g$ being symetric it will simplify the steps of the algorithm.\n",
    "\n",
    "The algorithm works this way:\n",
    "* Initialisation: initialize $x_0 \\in \\mathbb R^n $\n",
    "* Sample $x' \\sim g(.|x)$ \n",
    "* Compute $ \\alpha = \\frac{P(x')}{P(x_t)}= \\frac{f(x')}{f(x_t)}$\n",
    "* with probability $p = min(1,\\alpha)$: $x_{t+1} \\leftarrow x'$ otherwise $x_{t+1}=x_t$\n",
    "\n",
    "After a certain number of step $x_t$ follows the probability distribution $P$\n",
    "\n",
    "The number of steps depends on the dimension $n$, of the function $g$. THere are lots of heuristics that allow to know if the MCMC converged.\n",
    "\n",
    "We will take simple examples, the computation won't take long and we will perform a lot of iterations to make sure that we converged to the distribution $P$\n",
    "\n"
   ]
  },
  {
   "cell_type": "code",
   "execution_count": 1,
   "metadata": {},
   "outputs": [],
   "source": [
    "# Simple case where we sample a sum of two gaussian distribution\n",
    "# Sum of two gaussian distributions\n",
    "import numpy as np\n",
    "import random\n",
    "import matplotlib.pyplot as plt\n",
    "import math\n",
    "from tqdm import tqdm\n",
    "\n",
    "def pdf(x):\n",
    "    return  1/math.sqrt(2*math.pi)*math.exp(-0.5*(x-2)**2) + 1/math.sqrt(2*math.pi)*math.exp(-0.5*(x+1)**2)\n",
    "\n",
    "# transition function\n",
    "def step_dist(x,sigma=0.2):\n",
    "    return x+ sigma*np.random.randn(1)\n",
    "\n",
    "# metropolis hasting algorithm\n",
    "def metropolis_hastings(number_of_steps,x0,pdf):\n",
    "    x=x0\n",
    "    for step in range(number_of_steps):\n",
    "        #sampling new state\n",
    "        x_test =  step_dist(x)\n",
    "        #computing alpha\n",
    "        alpha = pdf(x_test)/pdf(x)\n",
    "        #if ap\n",
    "        if alpha >=1:\n",
    "            x = x_test\n",
    "        else:\n",
    "            if  random.random() < alpha:\n",
    "                x = x_test\n",
    "    return x[0]\n",
    "\n",
    "def run_mcmc():\n",
    "    number_of_steps=2000\n",
    "    number_of_sample=1000\n",
    "    #initialisation at 0.5\n",
    "    x0 = 0.5\n",
    "    #running the algorithm  multiple times\n",
    "    results = [metropolis_hastings(number_of_steps,x0,pdf) for _ in tqdm(range(number_of_sample))]\n",
    "    plt.hist(results,bins=20)\n",
    "    plt.show()"
   ]
  },
  {
   "cell_type": "code",
   "execution_count": 5,
   "metadata": {},
   "outputs": [
    {
     "name": "stderr",
     "output_type": "stream",
     "text": [
      "100%|██████████| 1000/1000 [01:43<00:00,  9.57it/s]\n"
     ]
    },
    {
     "data": {
      "image/png": "[encoded data removed]",
      "text/plain": [
       "<Figure size 432x288 with 1 Axes>"
      ]
     },
     "metadata": {
      "needs_background": "light"
     },
     "output_type": "display_data"
    }
   ],
   "source": [
    "run_mcmc()"
   ]
  },
  {
   "cell_type": "markdown",
   "metadata": {},
   "source": [
    "## Application to Bayesian inference\n",
    "We will apply the metropolis algorithm to compute the posterior distribition:\n",
    "\n",
    "Remember that we had the following relation:\n",
    "$$\n",
    "P(\\theta|D) \\propto P(D|\\theta)P(\\theta)\n",
    "$$\n",
    "This time we will apply the algorithm to $\\theta$, the function $f(\\theta)=P(D|\\theta)P(\\theta)$\n",
    "\n",
    "We can compute $f$ as $P(D|\\theta)$ is the likelihood of the data , $P(\\theta)$  is the prior that we gave to our parameters\n",
    "\n",
    "The likelihood depends on the problem that we consider: for regression or classification the computation is different, I will present here the case of regression\n",
    "\n",
    "\n"
   ]
  },
  {
   "cell_type": "code",
   "execution_count": 2,
   "metadata": {},
   "outputs": [],
   "source": [
    "class LinearModel():\n",
    "    def __init__(self,mu,sigma,dim):\n",
    "        self.mu = np.ones(dim)*mu\n",
    "        self.sigma = np.ones(dim)*sigma\n",
    "        self.mu_bias = mu\n",
    "        self.sigma_bias = sigma\n",
    "        self.dim = dim\n",
    "    def forward(self,X,w_sampled,bias_sampled):\n",
    "        return np.dot(X,w_sampled)+bias_sampled\n",
    "\n",
    "    #probability of the weights following a normal prior\n",
    "    def proba_weights(self,w_sampled,bias_sampled):\n",
    "        prob_w = np.prod((1/math.sqrt(2*math.pi)/self.sigma)*np.exp(-.5*(w_sampled-self.mu)**2/self.sigma))\n",
    "        prob_b = (1/math.sqrt(2*math.pi)/self.sigma_bias)*np.exp(-.5*(bias_sampled-self.mu_bias)**2/self.sigma_bias)\n",
    "        return prob_b*prob_w\n",
    "    #probability of Y knowing the weights and biases\n",
    "    def likelihood(self,X,w_sampled,bias_sampled,Y,noise):\n",
    "        y_hat = self.forward(X,w_sampled,bias_sampled)\n",
    "        proba_y = np.prod((1/math.sqrt(2*math.pi)/noise)*np.exp(-.5*(y_hat-Y)**2/noise))\n",
    "        return proba_y\n",
    "\n",
    "    #probability of the weights knowing the input data\n",
    "    def bayesian_proba(self,X,w_sampled,bias_sampled,Y,noise):\n",
    "        return self.proba_weights(w_sampled,bias_sampled)*self.likelihood(X,w_sampled,bias_sampled,Y,noise)\n",
    "\n",
    "#step function that we picked to be symetric\n",
    "def step_dist(sigma=0.15,shape=1):\n",
    "    return sigma*np.random.randn(shape)\n",
    "\n",
    "#Sampling the posterior using metropolis hastings\n",
    "def metropolis_hastings(number_of_steps,w0,b0,model,X,Y,noise):\n",
    "    #initializing\n",
    "    w=w0\n",
    "    b=b0\n",
    "    #looping for number of iteration: here is the MCMC \n",
    "    for step in range(number_of_steps):\n",
    "        # Building new test vector\n",
    "        w_test = w + step_dist(shape=model.dim)\n",
    "        b_test = b + step_dist()\n",
    "        #computing alpha\n",
    "        alpha = model.bayesian_proba(X,w_test,b_test,Y,noise)/model.bayesian_proba(X,w,b,Y,noise)\n",
    "        if alpha >=1:\n",
    "            w = w_test\n",
    "            b = b_test\n",
    "        else:\n",
    "            if  random.random() < alpha:\n",
    "                w = w_test\n",
    "                b = b_test\n",
    "    return w.tolist(),b[0]\n",
    "\n",
    "def run_linear_mcmc():\n",
    "    # number of steps of the MCMC\n",
    "    number_of_steps=2000\n",
    "    # number of sample of the MCMC\n",
    "    number_of_sample=1500\n",
    "    # Size of the dataset\n",
    "    size_batch = 100\n",
    "    # Dimension of the intput X\n",
    "    dim = 2\n",
    "    # Noise variance that we will add to the output\n",
    "    noise = 0.1\n",
    "    linear = LinearModel(0,1,dim)\n",
    "    # Building toy dataset\n",
    "    X = np.random.rand(size_batch,dim)*2 -1\n",
    "    #Selecting random values that will have to be found by the linear model\n",
    "    W = np.random.randn(dim)\n",
    "    B = np.random.randn(1)\n",
    "    #computing noisy output that we will try to approximate\n",
    "    Y = np.dot(X,W) + B + np.random.randn(size_batch)*noise\n",
    "    print(\"Parameters to guess:\")\n",
    "    print(\"W:\",W)\n",
    "    print(\"B: \",B)\n",
    "    print(\"_____________________\")\n",
    "    #initialization at 0 for all parameters\n",
    "    w0 = np.zeros(dim)\n",
    "    b0 = np.zeros(1)\n",
    "\n",
    "    # sampling from the posterior\n",
    "    w,b = zip(*[metropolis_hastings(number_of_steps,w0,b0,linear,X,Y,noise) for _ in tqdm(range(number_of_sample))])\n",
    "    unzipped_w = zip(*w)\n",
    "    i=0\n",
    "    #printing average of the posterior\n",
    "    print(\"Average parameters:\")\n",
    "    print(\"W: \",[np.mean(ws) for ws in unzipped_w])\n",
    "    print(\"B: \",np.mean(b))\n",
    "    #plots\n",
    "    for w_single in unzipped_w:\n",
    "        plt.figure()\n",
    "        plt.hist(w_single,bins=40)\n",
    "        plt.title(\"w\"+str(i))\n",
    "        i += 1\n",
    "    plt.figure()\n",
    "    plt.hist(b,bins=40)\n",
    "    plt.title(\"b\")\n"
   ]
  },
  {
   "cell_type": "code",
   "execution_count": 9,
   "metadata": {},
   "outputs": [
    {
     "name": "stderr",
     "output_type": "stream",
     "text": [
      "\r",
      "  0%|          | 0/1500 [00:00<?, ?it/s]"
     ]
    },
    {
     "name": "stdout",
     "output_type": "stream",
     "text": [
      "Parameters to guess:\n",
      "W: [ 0.66472588 -0.06998935]\n",
      "B:  [0.0735572]\n",
      "_____________________\n"
     ]
    },
    {
     "name": "stderr",
     "output_type": "stream",
     "text": [
      "100%|██████████| 1500/1500 [13:36<00:00,  1.93it/s]\n"
     ]
    },
    {
     "name": "stdout",
     "output_type": "stream",
     "text": [
      "Average parameters:\n",
      "W:  [0.6696426454030919, -0.059652492554884855]\n",
      "B:  0.09262194689561934\n"
     ]
    },
    {
     "data": {
      "image/png": "[encoded data removed]",
      "text/plain": [
       "<Figure size 432x288 with 1 Axes>"
      ]
     },
     "metadata": {
      "needs_background": "light"
     },
     "output_type": "display_data"
    }
   ],
   "source": [
    "run_linear_mcmc()"
   ]
  },
  {
   "cell_type": "markdown",
   "metadata": {},
   "source": [
    "These result are great but this is definitly taking too long I will present here quick solutions for speeding up the sampling the posterior"
   ]
  },
  {
   "cell_type": "markdown",
   "metadata": {},
   "source": [
    "## Burn - in, Acceptance rate\n",
    "Between each iterations we reset the value to our $x_0$ however it is not the best strategy: it takes some time for $x$ to find the right set of parameters, what if we were to initialize the new MCMC at the end of the previously chain: the point already belongs to the posterior distribution, we just have to wait some iterations so as to decorrelate $x_0$ and $x_t$.\n",
    "\n",
    "For now we chose abritrarily the step size of our transition however some heuristics exists: the acceptance rate is the average percentage of times that we accept the new value in the Metropolis algorithm. If it is close to 0 it means that $\\alpha$ is always too small: the step brings $x$ to much less probable regions: the step is too big. On the other hand an acceptance rate too high means the step size is too big. Generally we try to have an acceptance rate of 0.4. Some more finely tuned Metropolis algorithms change the step size according to the acceptance rate."
   ]
  },
  {
   "cell_type": "code",
   "execution_count": 38,
   "metadata": {},
   "outputs": [],
   "source": [
    "class AverageMeter():\n",
    "    \"\"\"\n",
    "    Class to make the statistics about a quantity\n",
    "    \"\"\"\n",
    "    def __init__(self):\n",
    "        self.reset()\n",
    "        \n",
    "    \n",
    "    def reset(self):\n",
    "        self.values = []\n",
    "    \n",
    "    def append(self,value):\n",
    "        self.values.append(value)\n",
    "    \n",
    "    def __call__(self):\n",
    "        return np.mean(self.values)\n",
    "    \n",
    "    def __len__(self):\n",
    "        return len(self.values)\n",
    "    \n",
    "class RunningMeter():\n",
    "    \"\"\" \n",
    "    Class to keep a running mean that is much better for memory\n",
    "    it smmoths the value on the most recent values\n",
    "    \"\"\"\n",
    "    def __init__(self,alpha):\n",
    "        self.reset(alpha)\n",
    "        self.value = 0\n",
    "        \n",
    "    def reset(self,alpha):\n",
    "        self.alpha = alpha\n",
    "    \n",
    "    def append(self,value):\n",
    "        self.value += self.alpha*(value -self.value)\n",
    "    \n",
    "    def __call__(self):\n",
    "        return self.value\n",
    "    \n",
    "    \n",
    "       \n",
    "class MetropolisHastings():\n",
    "    \"\"\"\n",
    "    Class to run the metropolis algorithm, the class formalism is necessary \n",
    "    as the algorithm will have inner variables such as the acceptance rate\n",
    "    \"\"\"\n",
    "    def __init__(self,priors,transition,model):\n",
    "        \"\"\"\n",
    "        Constructor:\n",
    "        Parameters:\n",
    "            priors: probability distributions for sampling the parameters\n",
    "            model: model to probe\n",
    "            transition: transition function that is symetric\n",
    "            \n",
    "        \"\"\"\n",
    "        self.priors = priors\n",
    "        self.model = model\n",
    "        self.transition = transition\n",
    "        self.acceptance_rate = RunningMeter(0.01)\n",
    "        self.trace_accept = []\n",
    "    \n",
    "    def update_step(self,step):\n",
    "        accept = self.acceptance_rate()\n",
    "        self.trace_accept.append(accept)\n",
    "        if accept > 0.42:\n",
    "            return step*1.04\n",
    "        if accept < 0.28:\n",
    "            return step*0.96\n",
    "        return step\n",
    "    \n",
    "    def run_mcmc(self,initial_parameters,sample_number,step=0.1,separated=300,burnin=0,*args,**kwargs):\n",
    "        x = initial_parameters\n",
    "        count = 0\n",
    "        sampled = 0\n",
    "        current_log_prob=self.model.log_likelihood(x,*args,**kwargs)+self.priors.log_prob(x,*args,**kwargs)\n",
    "        while sampled < sample_number:\n",
    "            x_new = self.transition(x,step)\n",
    "            new_log_prob = self.model.log_likelihood(x_new,*args,**kwargs) + self.priors.log_prob(x_new,*args,**kwargs)\n",
    "            log_alpha = new_log_prob - current_log_prob\n",
    "            if log_alpha > 0:\n",
    "                x = x_new\n",
    "                current_log_prob = new_log_prob\n",
    "                self.acceptance_rate.append(1)\n",
    "            elif np.log(random.random()) < log_alpha:\n",
    "                x = x_new\n",
    "                current_log_prob = new_log_prob\n",
    "                self.acceptance_rate.append(1)\n",
    "            else:\n",
    "                self.acceptance_rate.append(0)\n",
    "            count += 1\n",
    "            if count < burnin:\n",
    "                if count % separated == 0:\n",
    "                    step = self.update_step(step)\n",
    "                continue\n",
    "                \n",
    "            if count % separated == 0:\n",
    "                sampled +=1\n",
    "                step = self.update_step(step)\n",
    "                yield x\n",
    "            \n",
    "class ModelLinear():\n",
    "    \"\"\"\n",
    "    Simpler class than the one before it will just return the likelihood\n",
    "    this time we'll have no bias\n",
    "    \"\"\"\n",
    "    def log_likelihood(self,coeffs,X,Y,noise,*args,**kwargs):\n",
    "        Y_pred = np.dot(X,coeffs)\n",
    "        return np.sum((-np.log(math.sqrt(2*math.pi)*noise)-.5*(Y_pred-Y)**2/noise**2))\n",
    "\n",
    "\n",
    "class Prior():\n",
    "    \"\"\"\n",
    "    Simple class for priors\n",
    "    \"\"\"\n",
    "    def __init__(self,mu,sigma):\n",
    "        self.mu = mu\n",
    "        self.sigma = sigma\n",
    "    \n",
    "    def log_prob(self,coeffs,*args,**kwargs):\n",
    "        return np.sum((-np.log(math.sqrt(2*math.pi)*self.sigma)-.5*(coeffs-self.mu)**2/self.sigma**2))\n",
    "\n",
    "def transition(x,step):\n",
    "    return x + np.random.randn(*x.shape)*step\n",
    "        \n",
    "            \n",
    "def main_mcmc():\n",
    "    # number of steps of the MCMC\n",
    "    number_of_steps=2000\n",
    "    # number of sample of the MCMC\n",
    "    number_of_sample=1500\n",
    "    # Size of the dataset\n",
    "    size_batch = 100\n",
    "    # Dimension of the intput X\n",
    "    dim = 2\n",
    "    # Noise variance that we will add to the output\n",
    "    noise = 0.1\n",
    "    linear = ModelLinear()\n",
    "    # Building toy dataset\n",
    "    X = np.random.rand(size_batch,dim)*2 -1\n",
    "    #Selecting random values that will have to be found by the linear model\n",
    "    W = np.random.randn(dim)\n",
    "    #computing noisy output that we will try to approximate\n",
    "    Y = np.dot(X,W) + np.random.randn(size_batch)*noise\n",
    "    print(\"Parameters to guess:\")\n",
    "    print(\"W:\",W)\n",
    "    print(\"_____________________\")\n",
    "    #initialization at 0 for all parameters\n",
    "    w0 = np.zeros(dim)\n",
    "    \n",
    "    #parameters for prior\n",
    "    mu = 0\n",
    "    sigma = 1\n",
    "    priors = Prior(mu,sigma)\n",
    "    \n",
    "    mh = MetropolisHastings(priors,transition,linear)\n",
    "    \n",
    "    samples = np.array([sample for sample in mh.run_mcmc(w0,2000,step=0.1,separated=300,burnin=0,X=X,Y=Y,noise=noise)])\n",
    "    print(\"average W:\", np.mean(samples,axis=0))\n",
    "    plt.figure()\n",
    "    plt.hist(samples[:,0],bins=40)\n",
    "    plt.title(\"w1 posterior\")\n",
    "    plt.figure()\n",
    "    plt.hist(samples[:,1],bins=40)\n",
    "    plt.title(\"w2 posterior\")\n",
    "    plt.figure()\n",
    "    plt.plot(mh.trace_accept)\n",
    "    plt.title(\"Acceptance rate\")\n",
    "        "
   ]
  },
  {
   "cell_type": "code",
   "execution_count": 39,
   "metadata": {
    "scrolled": false
   },
   "outputs": [
    {
     "name": "stdout",
     "output_type": "stream",
     "text": [
      "Parameters to guess:\n",
      "W: [ 0.73723012 -0.23776089]\n",
      "_____________________\n",
      "average W: [ 0.730372   -0.25809531]\n"
     ]
    },
    {
     "data": {
      "image/png": "[encoded data removed]",
      "text/plain": [
       "<Figure size 432x288 with 1 Axes>"
      ]
     },
     "metadata": {
      "needs_background": "light"
     },
     "output_type": "display_data"
    },
    {
     "data": {
      "image/png": "[encoded data removed]",
      "text/plain": [
       "<Figure size 432x288 with 1 Axes>"
      ]
     },
     "metadata": {
      "needs_background": "light"
     },
     "output_type": "display_data"
    },
    {
     "data": {
      "image/png": "[encoded data removed]",
      "text/plain": [
       "<Figure size 432x288 with 1 Axes>"
      ]
     },
     "metadata": {
      "needs_background": "light"
     },
     "output_type": "display_data"
    }
   ],
   "source": [
    "main_mcmc()"
   ]
  },
  {
   "cell_type": "markdown",
   "metadata": {},
   "source": [
    "With one chain we were able to sample the posterior distributions, by implementing the burnin, the adaptive step and the log alpha (to reduce exponential overflow) the sampling is much faster"
   ]
  },
  {
   "cell_type": "code",
   "execution_count": null,
   "metadata": {},
   "outputs": [],
   "source": []
  }
 ],
 "metadata": {
  "kernelspec": {
   "display_name": "Python 3",
   "language": "python",
   "name": "python3"
  },
  "language_info": {
   "codemirror_mode": {
    "name": "ipython",
    "version": 3
   },
   "file_extension": ".py",
   "mimetype": "text/x-python",
   "name": "python",
   "nbconvert_exporter": "python",
   "pygments_lexer": "ipython3",
   "version": "3.7.6"
  }
 },
 "nbformat": 4,
 "nbformat_minor": 2
}
